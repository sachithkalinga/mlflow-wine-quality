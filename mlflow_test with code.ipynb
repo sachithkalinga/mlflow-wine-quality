{
 "cells": [
  {
   "cell_type": "markdown",
   "id": "c1551de4-4576-4d5c-83a7-5df05a717a41",
   "metadata": {},
   "source": [
    "# Step 1: Install and Set Up Environment"
   ]
  },
  {
   "cell_type": "code",
   "execution_count": null,
   "id": "00489ac3-af9e-470f-b1bb-a000e6c80324",
   "metadata": {},
   "outputs": [],
   "source": [
    "# Install dependencies\n",
    "!pip install mlflow scikit-learn pandas seaborn jupyter"
   ]
  },
  {
   "cell_type": "markdown",
   "id": "cc7f8c60-00ec-45eb-bb81-445b90a873c2",
   "metadata": {},
   "source": [
    "# Step 2: Import Necessary Libraries"
   ]
  },
  {
   "cell_type": "code",
   "execution_count": 1,
   "id": "3c39e77a-1f30-44f0-bf82-6898e1707f42",
   "metadata": {},
   "outputs": [],
   "source": [
    "import mlflow\n",
    "import mlflow.sklearn\n",
    "from sklearn.model_selection import train_test_split\n",
    "from sklearn.ensemble import RandomForestRegressor, GradientBoostingRegressor\n",
    "from sklearn.linear_model import LinearRegression\n",
    "from sklearn.metrics import mean_squared_error, r2_score\n",
    "import pandas as pd\n",
    "import seaborn as sns\n",
    "from mlflow.models.signature import infer_signature\n",
    "import numpy as np\n"
   ]
  },
  {
   "cell_type": "markdown",
   "id": "662a2b67-b78a-4657-a8b4-00a87f2aa917",
   "metadata": {},
   "source": [
    "# Step 3: Load Data"
   ]
  },
  {
   "cell_type": "code",
   "execution_count": 2,
   "id": "56925fbd-a4ac-4e7b-bff3-272e90e6f243",
   "metadata": {},
   "outputs": [
    {
     "data": {
      "text/html": [
       "<div>\n",
       "<style scoped>\n",
       "    .dataframe tbody tr th:only-of-type {\n",
       "        vertical-align: middle;\n",
       "    }\n",
       "\n",
       "    .dataframe tbody tr th {\n",
       "        vertical-align: top;\n",
       "    }\n",
       "\n",
       "    .dataframe thead th {\n",
       "        text-align: right;\n",
       "    }\n",
       "</style>\n",
       "<table border=\"1\" class=\"dataframe\">\n",
       "  <thead>\n",
       "    <tr style=\"text-align: right;\">\n",
       "      <th></th>\n",
       "      <th>fixed acidity</th>\n",
       "      <th>volatile acidity</th>\n",
       "      <th>citric acid</th>\n",
       "      <th>residual sugar</th>\n",
       "      <th>chlorides</th>\n",
       "      <th>free sulfur dioxide</th>\n",
       "      <th>total sulfur dioxide</th>\n",
       "      <th>density</th>\n",
       "      <th>pH</th>\n",
       "      <th>sulphates</th>\n",
       "      <th>alcohol</th>\n",
       "      <th>quality</th>\n",
       "    </tr>\n",
       "  </thead>\n",
       "  <tbody>\n",
       "    <tr>\n",
       "      <th>0</th>\n",
       "      <td>7.4</td>\n",
       "      <td>0.70</td>\n",
       "      <td>0.00</td>\n",
       "      <td>1.9</td>\n",
       "      <td>0.076</td>\n",
       "      <td>11.0</td>\n",
       "      <td>34.0</td>\n",
       "      <td>0.9978</td>\n",
       "      <td>3.51</td>\n",
       "      <td>0.56</td>\n",
       "      <td>9.4</td>\n",
       "      <td>5</td>\n",
       "    </tr>\n",
       "    <tr>\n",
       "      <th>1</th>\n",
       "      <td>7.8</td>\n",
       "      <td>0.88</td>\n",
       "      <td>0.00</td>\n",
       "      <td>2.6</td>\n",
       "      <td>0.098</td>\n",
       "      <td>25.0</td>\n",
       "      <td>67.0</td>\n",
       "      <td>0.9968</td>\n",
       "      <td>3.20</td>\n",
       "      <td>0.68</td>\n",
       "      <td>9.8</td>\n",
       "      <td>5</td>\n",
       "    </tr>\n",
       "    <tr>\n",
       "      <th>2</th>\n",
       "      <td>7.8</td>\n",
       "      <td>0.76</td>\n",
       "      <td>0.04</td>\n",
       "      <td>2.3</td>\n",
       "      <td>0.092</td>\n",
       "      <td>15.0</td>\n",
       "      <td>54.0</td>\n",
       "      <td>0.9970</td>\n",
       "      <td>3.26</td>\n",
       "      <td>0.65</td>\n",
       "      <td>9.8</td>\n",
       "      <td>5</td>\n",
       "    </tr>\n",
       "    <tr>\n",
       "      <th>3</th>\n",
       "      <td>11.2</td>\n",
       "      <td>0.28</td>\n",
       "      <td>0.56</td>\n",
       "      <td>1.9</td>\n",
       "      <td>0.075</td>\n",
       "      <td>17.0</td>\n",
       "      <td>60.0</td>\n",
       "      <td>0.9980</td>\n",
       "      <td>3.16</td>\n",
       "      <td>0.58</td>\n",
       "      <td>9.8</td>\n",
       "      <td>6</td>\n",
       "    </tr>\n",
       "    <tr>\n",
       "      <th>4</th>\n",
       "      <td>7.4</td>\n",
       "      <td>0.70</td>\n",
       "      <td>0.00</td>\n",
       "      <td>1.9</td>\n",
       "      <td>0.076</td>\n",
       "      <td>11.0</td>\n",
       "      <td>34.0</td>\n",
       "      <td>0.9978</td>\n",
       "      <td>3.51</td>\n",
       "      <td>0.56</td>\n",
       "      <td>9.4</td>\n",
       "      <td>5</td>\n",
       "    </tr>\n",
       "  </tbody>\n",
       "</table>\n",
       "</div>"
      ],
      "text/plain": [
       "   fixed acidity  volatile acidity  citric acid  residual sugar  chlorides  \\\n",
       "0            7.4              0.70         0.00             1.9      0.076   \n",
       "1            7.8              0.88         0.00             2.6      0.098   \n",
       "2            7.8              0.76         0.04             2.3      0.092   \n",
       "3           11.2              0.28         0.56             1.9      0.075   \n",
       "4            7.4              0.70         0.00             1.9      0.076   \n",
       "\n",
       "   free sulfur dioxide  total sulfur dioxide  density    pH  sulphates  \\\n",
       "0                 11.0                  34.0   0.9978  3.51       0.56   \n",
       "1                 25.0                  67.0   0.9968  3.20       0.68   \n",
       "2                 15.0                  54.0   0.9970  3.26       0.65   \n",
       "3                 17.0                  60.0   0.9980  3.16       0.58   \n",
       "4                 11.0                  34.0   0.9978  3.51       0.56   \n",
       "\n",
       "   alcohol  quality  \n",
       "0      9.4        5  \n",
       "1      9.8        5  \n",
       "2      9.8        5  \n",
       "3      9.8        6  \n",
       "4      9.4        5  "
      ]
     },
     "execution_count": 2,
     "metadata": {},
     "output_type": "execute_result"
    }
   ],
   "source": [
    "url = \"https://archive.ics.uci.edu/ml/machine-learning-databases/wine-quality/winequality-red.csv\"\n",
    "\n",
    "df = pd.read_csv(url, sep=';')\n",
    "df.head()"
   ]
  },
  {
   "cell_type": "code",
   "execution_count": 3,
   "id": "418ba7c4-5e2a-443b-a55b-753ea1ffb6a2",
   "metadata": {},
   "outputs": [
    {
     "name": "stdout",
     "output_type": "stream",
     "text": [
      "<class 'pandas.core.frame.DataFrame'>\n",
      "RangeIndex: 1599 entries, 0 to 1598\n",
      "Data columns (total 12 columns):\n",
      " #   Column                Non-Null Count  Dtype  \n",
      "---  ------                --------------  -----  \n",
      " 0   fixed acidity         1599 non-null   float64\n",
      " 1   volatile acidity      1599 non-null   float64\n",
      " 2   citric acid           1599 non-null   float64\n",
      " 3   residual sugar        1599 non-null   float64\n",
      " 4   chlorides             1599 non-null   float64\n",
      " 5   free sulfur dioxide   1599 non-null   float64\n",
      " 6   total sulfur dioxide  1599 non-null   float64\n",
      " 7   density               1599 non-null   float64\n",
      " 8   pH                    1599 non-null   float64\n",
      " 9   sulphates             1599 non-null   float64\n",
      " 10  alcohol               1599 non-null   float64\n",
      " 11  quality               1599 non-null   int64  \n",
      "dtypes: float64(11), int64(1)\n",
      "memory usage: 150.0 KB\n"
     ]
    }
   ],
   "source": [
    "df.info()"
   ]
  },
  {
   "cell_type": "code",
   "execution_count": null,
   "id": "f8d66dc6",
   "metadata": {},
   "outputs": [],
   "source": [
    "# Separate Features and Target\n",
    "X = df.drop(\"quality\", axis=1)\n",
    "y = df[\"quality\"]"
   ]
  },
  {
   "cell_type": "markdown",
   "id": "91b4828f-0405-4e55-a594-d8cd94713063",
   "metadata": {},
   "source": [
    "# Step 4: Train-Test Split"
   ]
  },
  {
   "cell_type": "code",
   "execution_count": 7,
   "id": "4d047343-cc70-4a5c-9f31-fc6bd9133ccc",
   "metadata": {},
   "outputs": [],
   "source": [
    "X_train, X_test, y_train, y_test = train_test_split(X, y, test_size=0.2, random_state=42)"
   ]
  },
  {
   "cell_type": "markdown",
   "id": "81a84be5-dc24-4447-a5fe-34b7c4dcb072",
   "metadata": {},
   "source": [
    "# Step 5: Define Models and Hyperparameters\n"
   ]
  },
  {
   "cell_type": "code",
   "execution_count": 8,
   "id": "c8925b8c-8106-4685-aa6b-01ba248d4c40",
   "metadata": {},
   "outputs": [],
   "source": [
    "models = {\n",
    "    \"LinearRegression\": LinearRegression(),\n",
    "    \"RandomForest\": RandomForestRegressor(n_estimators=100, max_depth=5, random_state=42),\n",
    "    \"GradientBoosting\": GradientBoostingRegressor(n_estimators=100, learning_rate=0.1, random_state=42)\n",
    "}\n"
   ]
  },
  {
   "cell_type": "markdown",
   "id": "48befbca-41ae-45d8-9966-7b1efa22ab23",
   "metadata": {},
   "source": [
    "# Step 6: Set Experiment"
   ]
  },
  {
   "cell_type": "code",
   "execution_count": 28,
   "id": "2781bb06",
   "metadata": {},
   "outputs": [
    {
     "name": "stdout",
     "output_type": "stream",
     "text": [
      "\n",
      "Name              : Wine_Quality_Prediction_exp\n",
      "ID                : 674643091897476556\n",
      "Artifact Location : file:///C:/Users/Sachith/Projects/mlflow/mlruns/674643091897476556\n",
      "Lifecycle Stage   : active\n",
      "Creation Time     : 1744362281099\n",
      "Last Update Time  : 1744554449022\n",
      "Tags              : {}\n",
      "\n"
     ]
    }
   ],
   "source": [
    "# Set or get the experiment\n",
    "experiment = mlflow.set_experiment(\"Wine_Quality_Prediction_exp\")\n",
    "\n",
    "# Print experiment details\n",
    "print(f\"\"\"\n",
    "Name              : {experiment.name}\n",
    "ID                : {experiment.experiment_id}\n",
    "Artifact Location : {experiment.artifact_location}\n",
    "Lifecycle Stage   : {experiment.lifecycle_stage}\n",
    "Creation Time     : {experiment.creation_time}\n",
    "Last Update Time  : {experiment.last_update_time}\n",
    "Tags              : {experiment.tags}\n",
    "\"\"\")\n"
   ]
  },
  {
   "cell_type": "markdown",
   "id": "46fa4084",
   "metadata": {},
   "source": [
    "# Step 7: Training and Logging with MLflow"
   ]
  },
  {
   "cell_type": "code",
   "execution_count": 29,
   "id": "5750180a-5437-4cca-87a5-45e377cbfafc",
   "metadata": {
    "scrolled": true
   },
   "outputs": [
    {
     "name": "stdout",
     "output_type": "stream",
     "text": [
      "LinearRegression - RMSE: 0.6245 | R2: 0.4032\n",
      "RandomForest - RMSE: 0.6062 | R2: 0.4376\n",
      "GradientBoosting - RMSE: 0.6019 | R2: 0.4456\n"
     ]
    }
   ],
   "source": [
    "run_ids = {}  # To store run IDs for each model\n",
    "\n",
    "for model_name, model in models.items():\n",
    "    with mlflow.start_run(run_name=model_name) as run:\n",
    "        model.fit(X_train, y_train)\n",
    "        preds = model.predict(X_test)\n",
    "\n",
    "        rmse = np.sqrt(mean_squared_error(y_test, preds))\n",
    "        r2 = r2_score(y_test, preds)\n",
    "\n",
    "        mlflow.log_param(\"model_type\", model_name)\n",
    "\n",
    "        if model_name != \"LinearRegression\":\n",
    "            for param, value in model.get_params().items():\n",
    "                mlflow.log_param(param, value)\n",
    "\n",
    "        mlflow.log_metric(\"rmse\", rmse)\n",
    "        mlflow.log_metric(\"r2_score\", r2)\n",
    "\n",
    "        input_example = X_test[:1]\n",
    "        signature = infer_signature(X_test, preds)\n",
    "\n",
    "        mlflow.sklearn.log_model(\n",
    "            sk_model=model,\n",
    "            artifact_path=model_name,\n",
    "            input_example=input_example,\n",
    "            signature=signature\n",
    "        )\n",
    "\n",
    "        print(f\"{model_name} - RMSE: {rmse:.4f} | R2: {r2:.4f}\")\n",
    "\n",
    "        # Save run ID for later\n",
    "        run_ids[model_name] = run.info.run_id\n"
   ]
  },
  {
   "cell_type": "markdown",
   "id": "ce9812cf-7314-46fa-af9f-1cf312551dc5",
   "metadata": {},
   "source": [
    "# Step 8: Load and Use the Model from MLflow"
   ]
  },
  {
   "cell_type": "code",
   "execution_count": 15,
   "id": "f5a90d5a-8d37-4d43-bd72-3dcf72d1437b",
   "metadata": {},
   "outputs": [],
   "source": [
    "# Load model from MLflow using the run ID\n",
    "model_uri = \"runs:/dd6bcd0d10f34eefa8cec7b7472ed8fd/RandomForest\"  # Replace <run_id> with the actual run ID\n",
    "loaded_model = mlflow.sklearn.load_model(model_uri)\n",
    "\n",
    "# Use the model for prediction\n",
    "loaded_preds = loaded_model.predict(X_test)"
   ]
  },
  {
   "cell_type": "code",
   "execution_count": 29,
   "id": "e3b56e77-a941-45a7-903f-5645ad2711eb",
   "metadata": {},
   "outputs": [],
   "source": [
    "# # Check if a run is active before ending it\n",
    "# if mlflow.active_run() is not None:\n",
    "#     mlflow.end_run()  # Only end the run if it's active\n",
    "# else:\n",
    "#     print(\"No active run to end.\")\n"
   ]
  },
  {
   "cell_type": "markdown",
   "id": "f63c581e-96d1-44ab-ade5-24c5ba25da09",
   "metadata": {},
   "source": [
    "# Step 9: Register the Model"
   ]
  },
  {
   "cell_type": "code",
   "execution_count": 28,
   "id": "d1195f27-414c-4e64-8706-5d9111024e72",
   "metadata": {},
   "outputs": [
    {
     "name": "stderr",
     "output_type": "stream",
     "text": [
      "Registered model 'RandomForest' already exists. Creating a new version of this model...\n",
      "Created version '4' of model 'RandomForest'.\n"
     ]
    },
    {
     "data": {
      "text/plain": [
       "<ModelVersion: aliases=[], creation_timestamp=1744363378776, current_stage='None', description=None, last_updated_timestamp=1744363378776, name='RandomForest', run_id='e9e3e4b73cd7413faead29ffcddca9a6', run_link=None, source='file:///C:/Users/Sachith/Projects/mlflow/mlruns/674643091897476556/e9e3e4b73cd7413faead29ffcddca9a6/artifacts/RandomForest', status='READY', status_message=None, tags={}, user_id=None, version=4>"
      ]
     },
     "execution_count": 28,
     "metadata": {},
     "output_type": "execute_result"
    }
   ],
   "source": [
    "# Register the model in the registry\n",
    "mlflow.register_model(\n",
    "    model_uri=f\"runs:/{run_ids['RandomForest']}/RandomForest\",\n",
    "    name=\"RandomForest\"\n",
    ")"
   ]
  },
  {
   "cell_type": "markdown",
   "id": "5234dc14-c12e-4047-8842-b784315abe78",
   "metadata": {},
   "source": [
    "# Step 10: Tag the Model Version"
   ]
  },
  {
   "cell_type": "code",
   "execution_count": 33,
   "id": "88d83912-87de-4dc9-be6e-37494d18fedf",
   "metadata": {},
   "outputs": [],
   "source": [
    "from mlflow.tracking import MlflowClient\n",
    "\n",
    "client = MlflowClient()\n",
    "client.set_model_version_tag(\n",
    "    name=\"RandomForest\",\n",
    "    version=2,  # Specify the version number\n",
    "    key=\"stage\",\n",
    "    value=\"production\"\n",
    ")"
   ]
  },
  {
   "cell_type": "markdown",
   "id": "26b09e13-ebc7-460c-bc29-936f3904bd68",
   "metadata": {},
   "source": [
    "# Step 11: Search and Tag Model Versions"
   ]
  },
  {
   "cell_type": "code",
   "execution_count": 34,
   "id": "1bd85c61-4132-4f74-87c0-a860ce154d2e",
   "metadata": {},
   "outputs": [
    {
     "name": "stdout",
     "output_type": "stream",
     "text": [
      "Model version 4 - Tags: {}\n",
      "Model version 3 - Tags: {}\n",
      "Model version 2 - Tags: {'stage': 'production'}\n",
      "Model version 1 - Tags: {'stage': 'production'}\n",
      "Model version 1 has been tagged as 'production'.\n"
     ]
    }
   ],
   "source": [
    "model_versions = client.search_model_versions(f\"name='RandomForest'\")\n",
    "\n",
    "for version in model_versions:\n",
    "    print(f\"Model version {version.version} - Tags: {version.tags}\")\n",
    "\n",
    "client.set_model_version_tag(\n",
    "    name=\"RandomForest\",\n",
    "    version=1,  # Specify the version you want to tag\n",
    "    key=\"stage\",\n",
    "    value=\"production\"\n",
    ")\n",
    "\n",
    "print(\"Model version 1 has been tagged as 'production'.\")"
   ]
  }
 ],
 "metadata": {
  "kernelspec": {
   "display_name": "mlflowenv",
   "language": "python",
   "name": "python3"
  },
  "language_info": {
   "codemirror_mode": {
    "name": "ipython",
    "version": 3
   },
   "file_extension": ".py",
   "mimetype": "text/x-python",
   "name": "python",
   "nbconvert_exporter": "python",
   "pygments_lexer": "ipython3",
   "version": "3.12.6"
  }
 },
 "nbformat": 4,
 "nbformat_minor": 5
}
