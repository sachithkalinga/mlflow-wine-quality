{
 "cells": [
  {
   "cell_type": "markdown",
   "id": "c1551de4-4576-4d5c-83a7-5df05a717a41",
   "metadata": {},
   "source": [
    "# Step 1: Install and Set Up Environment"
   ]
  },
  {
   "cell_type": "code",
   "execution_count": null,
   "id": "00489ac3-af9e-470f-b1bb-a000e6c80324",
   "metadata": {},
   "outputs": [],
   "source": [
    "# Install dependencies\n",
    "# !pip install mlflow scikit-learn pandas seaborn jupyter"
   ]
  },
  {
   "cell_type": "markdown",
   "id": "cc7f8c60-00ec-45eb-bb81-445b90a873c2",
   "metadata": {},
   "source": [
    "# Step 2: Import Necessary Libraries"
   ]
  },
  {
   "cell_type": "code",
   "execution_count": null,
   "id": "3c39e77a-1f30-44f0-bf82-6898e1707f42",
   "metadata": {},
   "outputs": [],
   "source": [
    "import mlflow\n",
    "import mlflow.sklearn\n",
    "from sklearn.model_selection import train_test_split\n",
    "from sklearn.ensemble import RandomForestRegressor, GradientBoostingRegressor\n",
    "from sklearn.linear_model import LinearRegression\n",
    "from sklearn.metrics import mean_squared_error, r2_score\n",
    "import pandas as pd\n",
    "import seaborn as sns\n",
    "from mlflow.models.signature import infer_signature\n",
    "import numpy as np"
   ]
  },
  {
   "cell_type": "markdown",
   "id": "662a2b67-b78a-4657-a8b4-00a87f2aa917",
   "metadata": {},
   "source": [
    "# Step 3: Load Data"
   ]
  },
  {
   "cell_type": "code",
   "execution_count": null,
   "id": "56925fbd-a4ac-4e7b-bff3-272e90e6f243",
   "metadata": {},
   "outputs": [],
   "source": [
    "url = \"https://archive.ics.uci.edu/ml/machine-learning-databases/wine-quality/winequality-red.csv\"\n",
    "\n",
    "df = pd.read_csv(url, sep=';')\n",
    "df.head()"
   ]
  },
  {
   "cell_type": "code",
   "execution_count": null,
   "id": "f8d66dc6",
   "metadata": {},
   "outputs": [],
   "source": [
    "# Separate Features and Target\n",
    "X = df.drop(\"quality\", axis=1)\n",
    "y = df[\"quality\"]"
   ]
  },
  {
   "cell_type": "markdown",
   "id": "91b4828f-0405-4e55-a594-d8cd94713063",
   "metadata": {},
   "source": [
    "# Step 4: Train-Test Split"
   ]
  },
  {
   "cell_type": "code",
   "execution_count": null,
   "id": "4d047343-cc70-4a5c-9f31-fc6bd9133ccc",
   "metadata": {},
   "outputs": [],
   "source": [
    "X_train, X_test, y_train, y_test = train_test_split(X, y, test_size=0.2, random_state=42)"
   ]
  },
  {
   "cell_type": "markdown",
   "id": "81a84be5-dc24-4447-a5fe-34b7c4dcb072",
   "metadata": {},
   "source": [
    "# Step 5: Define Models and Hyperparameters\n"
   ]
  },
  {
   "cell_type": "code",
   "execution_count": null,
   "id": "c8925b8c-8106-4685-aa6b-01ba248d4c40",
   "metadata": {},
   "outputs": [],
   "source": [
    "models = {\n",
    "    \"LinearRegression\": LinearRegression(),\n",
    "    \"RandomForest\": RandomForestRegressor(n_estimators=100, max_depth=5, random_state=42),\n",
    "    \"GradientBoosting\": GradientBoostingRegressor(n_estimators=100, learning_rate=0.1, random_state=42)\n",
    "}\n"
   ]
  },
  {
   "cell_type": "markdown",
   "id": "48befbca-41ae-45d8-9966-7b1efa22ab23",
   "metadata": {},
   "source": [
    "# Step 6: Set Experiment"
   ]
  },
  {
   "cell_type": "code",
   "execution_count": null,
   "id": "2781bb06",
   "metadata": {},
   "outputs": [],
   "source": [
    "# Set or get the experiment\n",
    "experiment = mlflow.set_experiment(\"Wine_Quality_Prediction_exp\")\n",
    "\n",
    "# Print experiment details\n",
    "print(f\"\"\"\n",
    "Name              : {experiment.name}\n",
    "ID                : {experiment.experiment_id}\n",
    "Artifact Location : {experiment.artifact_location}\n",
    "Lifecycle Stage   : {experiment.lifecycle_stage}\n",
    "Creation Time     : {experiment.creation_time}\n",
    "Last Update Time  : {experiment.last_update_time}\n",
    "Tags              : {experiment.tags}\n",
    "\"\"\")\n"
   ]
  },
  {
   "cell_type": "markdown",
   "id": "46fa4084",
   "metadata": {},
   "source": [
    "# Step 7: Training and Logging with MLflow"
   ]
  },
  {
   "cell_type": "code",
   "execution_count": null,
   "id": "5750180a-5437-4cca-87a5-45e377cbfafc",
   "metadata": {
    "scrolled": true
   },
   "outputs": [],
   "source": [
    "run_ids = {}  # To store run IDs for each model\n",
    "\n",
    "for model_name, model in models.items():\n",
    "    with mlflow.start_run(run_name=model_name) as run:\n",
    "        model.fit(X_train, y_train)\n",
    "        preds = model.predict(X_test)\n",
    "\n",
    "        rmse = np.sqrt(mean_squared_error(y_test, preds))\n",
    "        r2 = r2_score(y_test, preds)\n",
    "\n",
    "        mlflow.log_param(\"model_type\", model_name)\n",
    "\n",
    "        if model_name != \"LinearRegression\":\n",
    "            for param, value in model.get_params().items():\n",
    "                mlflow.log_param(param, value)\n",
    "\n",
    "        mlflow.log_metric(\"rmse\", rmse)\n",
    "        mlflow.log_metric(\"r2_score\", r2)\n",
    "\n",
    "        input_example = X_test[:1]\n",
    "        signature = infer_signature(X_test, preds)\n",
    "\n",
    "        mlflow.sklearn.log_model(\n",
    "            sk_model=model,\n",
    "            artifact_path=model_name,\n",
    "            input_example=input_example,\n",
    "            signature=signature\n",
    "        )\n",
    "\n",
    "        print(f\"{model_name} - RMSE: {rmse:.4f} | R2: {r2:.4f}\")\n",
    "\n",
    "        # Save run ID for later\n",
    "        run_ids[model_name] = run.info.run_id\n"
   ]
  },
  {
   "cell_type": "markdown",
   "id": "ce9812cf-7314-46fa-af9f-1cf312551dc5",
   "metadata": {},
   "source": [
    "# Step 8: Load and Use the Model from MLflow"
   ]
  },
  {
   "cell_type": "code",
   "execution_count": null,
   "id": "f5a90d5a-8d37-4d43-bd72-3dcf72d1437b",
   "metadata": {},
   "outputs": [],
   "source": [
    "# Load model from MLflow using the run ID\n",
    "run_id = \"YOUR_COPIED_RUN_ID\"\n",
    "model_uri = f\"runs:/{run_id}/GradientBoosting\"\n",
    "loaded_model = mlflow.sklearn.load_model(model_uri)\n",
    "\n",
    "# Use the model for prediction\n",
    "loaded_preds = loaded_model.predict(X_test)"
   ]
  },
  {
   "cell_type": "markdown",
   "id": "f63c581e-96d1-44ab-ade5-24c5ba25da09",
   "metadata": {},
   "source": [
    "# Step 9: Register the Model"
   ]
  },
  {
   "cell_type": "code",
   "execution_count": null,
   "id": "d1195f27-414c-4e64-8706-5d9111024e72",
   "metadata": {},
   "outputs": [],
   "source": [
    "# Register the model in the registry\n",
    "mlflow.register_model(\n",
    "    model_uri = f\"runs:/{run_id}/GradientBoosting\",\n",
    "    name=\"WineQualityPredictor-GB\"\n",
    ")"
   ]
  },
  {
   "cell_type": "markdown",
   "id": "26b09e13-ebc7-460c-bc29-936f3904bd68",
   "metadata": {},
   "source": [
    "# Step 10: Tag Model Versions"
   ]
  },
  {
   "cell_type": "code",
   "execution_count": null,
   "id": "1bd85c61-4132-4f74-87c0-a860ce154d2e",
   "metadata": {},
   "outputs": [],
   "source": [
    "from mlflow.tracking import MlflowClient\n",
    "version_to_tag = 1\n",
    "\n",
    "client = MlflowClient()\n",
    "client.set_model_version_tag(\n",
    "    name=\"WineQualityPredictor-GB\",\n",
    "    version=version_to_tag,  # Specify the version number\n",
    "    key=\"stage\",\n",
    "    value=\"production\"\n",
    ")"
   ]
  }
 ],
 "metadata": {
  "kernelspec": {
   "display_name": "mlflow_env",
   "language": "python",
   "name": "python3"
  },
  "language_info": {
   "codemirror_mode": {
    "name": "ipython",
    "version": 3
   },
   "file_extension": ".py",
   "mimetype": "text/x-python",
   "name": "python",
   "nbconvert_exporter": "python",
   "pygments_lexer": "ipython3",
   "version": "3.12.6"
  }
 },
 "nbformat": 4,
 "nbformat_minor": 5
}
